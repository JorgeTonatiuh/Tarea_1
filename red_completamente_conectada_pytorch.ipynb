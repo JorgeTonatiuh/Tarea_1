{
  "nbformat": 4,
  "nbformat_minor": 0,
  "metadata": {
    "colab": {
      "provenance": [],
      "collapsed_sections": [],
      "authorship_tag": "ABX9TyM9TOgGxm8pdz03O4KkYvxB",
      "include_colab_link": true
    },
    "kernelspec": {
      "name": "python3",
      "display_name": "Python 3"
    },
    "language_info": {
      "name": "python"
    }
  },
  "cells": [
    {
      "cell_type": "markdown",
      "metadata": {
        "id": "view-in-github",
        "colab_type": "text"
      },
      "source": [
        "<a href=\"https://colab.research.google.com/github/JorgeTonatiuh/Tarea_1/blob/main/red_completamente_conectada_pytorch.ipynb\" target=\"_parent\"><img src=\"https://colab.research.google.com/assets/colab-badge.svg\" alt=\"Open In Colab\"/></a>"
      ]
    },
    {
      "cell_type": "markdown",
      "source": [
        "# Red completamente conectada con PyTorch"
      ],
      "metadata": {
        "id": "fgfF9TiBHBBz"
      }
    },
    {
      "cell_type": "markdown",
      "source": [
        "Implementa una red completamente conectada para la tarea de clasificación de imágenes sobre\n",
        "el conjunto de Fashion-MNIST, tomando en cuenta las siguiente especificaciones:\n",
        "\n",
        "*   Explora con diferentes número de neuronas, capas, funciones de activación e hiperparámetros.\n",
        "*   Discute tus resultados con las distintas configuraciones."
      ],
      "metadata": {
        "id": "-L72DXQsHRWW"
      }
    },
    {
      "cell_type": "code",
      "source": [],
      "metadata": {
        "id": "6gMerN5-HCOq"
      },
      "execution_count": null,
      "outputs": []
    }
  ]
}