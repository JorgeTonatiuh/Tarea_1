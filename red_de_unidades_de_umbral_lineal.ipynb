{
  "nbformat": 4,
  "nbformat_minor": 0,
  "metadata": {
    "colab": {
      "provenance": [],
      "collapsed_sections": [],
      "authorship_tag": "ABX9TyML+aBOa1kqX+rZIKv48qAV",
      "include_colab_link": true
    },
    "kernelspec": {
      "name": "python3",
      "display_name": "Python 3"
    },
    "language_info": {
      "name": "python"
    }
  },
  "cells": [
    {
      "cell_type": "markdown",
      "metadata": {
        "id": "view-in-github",
        "colab_type": "text"
      },
      "source": [
        "<a href=\"https://colab.research.google.com/github/JorgeTonatiuh/Tarea_1/blob/main/red_de_unidades_de_umbral_lineal.ipynb\" target=\"_parent\"><img src=\"https://colab.research.google.com/assets/colab-badge.svg\" alt=\"Open In Colab\"/></a>"
      ]
    },
    {
      "cell_type": "markdown",
      "source": [
        "# Red de unidades de umbral lineal"
      ],
      "metadata": {
        "id": "QrDpwPCR80xM"
      }
    },
    {
      "cell_type": "markdown",
      "source": [
        "Programa y evalúa una red de neuronas con funciones de activación escalón unitario que aproxime la operación XNOR (⊙)."
      ],
      "metadata": {
        "id": "dl6B48CBC9RJ"
      }
    },
    {
      "cell_type": "code",
      "source": [],
      "metadata": {
        "id": "_dVC_85t88A9"
      },
      "execution_count": null,
      "outputs": []
    }
  ]
}