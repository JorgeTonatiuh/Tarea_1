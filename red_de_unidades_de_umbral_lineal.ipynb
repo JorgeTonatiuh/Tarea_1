{
  "nbformat": 4,
  "nbformat_minor": 0,
  "metadata": {
    "colab": {
      "provenance": [],
      "collapsed_sections": [],
      "authorship_tag": "ABX9TyMuv1sfcIQrodvmcRb8EP59",
      "include_colab_link": true
    },
    "kernelspec": {
      "name": "python3",
      "display_name": "Python 3"
    },
    "language_info": {
      "name": "python"
    }
  },
  "cells": [
    {
      "cell_type": "markdown",
      "metadata": {
        "id": "view-in-github",
        "colab_type": "text"
      },
      "source": [
        "<a href=\"https://colab.research.google.com/github/JorgeTonatiuh/Tarea_1/blob/main/red_de_unidades_de_umbral_lineal.ipynb\" target=\"_parent\"><img src=\"https://colab.research.google.com/assets/colab-badge.svg\" alt=\"Open In Colab\"/></a>"
      ]
    },
    {
      "cell_type": "markdown",
      "source": [
        "# Red de unidades de umbral lineal"
      ],
      "metadata": {
        "id": "QrDpwPCR80xM"
      }
    },
    {
      "cell_type": "markdown",
      "source": [
        "## Definición de funciónes de utilería"
      ],
      "metadata": {
        "id": "78t8vJ9StvsO"
      }
    },
    {
      "cell_type": "markdown",
      "source": [
        "Programa y evalúa una red de neuronas con funciones de activación escalón unitario que aproxime la operación XNOR (⊙)."
      ],
      "metadata": {
        "id": "dl6B48CBC9RJ"
      }
    },
    {
      "cell_type": "code",
      "source": [
        "import numpy as np"
      ],
      "metadata": {
        "id": "_dVC_85t88A9"
      },
      "execution_count": 726,
      "outputs": []
    },
    {
      "cell_type": "markdown",
      "source": [
        "Se defina la función escalón unitario que se usará en cada una de las neuronas"
      ],
      "metadata": {
        "id": "8FdKQ4Ezdypr"
      }
    },
    {
      "cell_type": "code",
      "source": [
        "def step(x):\n",
        "    return np.heaviside(x, 1)"
      ],
      "metadata": {
        "id": "dMKBubcOfHLG"
      },
      "execution_count": 727,
      "outputs": []
    },
    {
      "cell_type": "markdown",
      "source": [
        "Se define la función perceptron que define el producto punto entre los pesos y las entradas mas el sesgo. \n",
        "Y después ese resultado se evalúa en la función de activación escalón unitario, obteniendo así la 'y' que indica el resultado obtenido de esa neurona en específico. "
      ],
      "metadata": {
        "id": "xnOpsAt-d82B"
      }
    },
    {
      "cell_type": "code",
      "source": [
        "def perceptron(X,w,b):\n",
        "  z = X @ w + b\n",
        "  return step(z)"
      ],
      "metadata": {
        "id": "9M55zk30XHAU"
      },
      "execution_count": 728,
      "outputs": []
    },
    {
      "cell_type": "markdown",
      "source": [
        "En la clase se analizaron algunas operaciones lógicas utilizando solamente una neurona y como función de activación el escalón unitario, entonces acontinuación se definirán cada una de ellas así como las necesarias para obtener la compuerta lógica XNOR."
      ],
      "metadata": {
        "id": "8jggaGkpezjp"
      }
    },
    {
      "cell_type": "markdown",
      "source": [
        "Para obtener cada una de las operaciones lógicas se proponen los pesos así como el sesgo de cada una."
      ],
      "metadata": {
        "id": "9bb8ECy7ggmy"
      }
    },
    {
      "cell_type": "code",
      "source": [
        "def not_neurona(X):\n",
        "  w = np.array([-1]) \n",
        "  b = np.array([0.5]) \n",
        "  return perceptron(X,w,b)"
      ],
      "metadata": {
        "id": "z_JqAfGjXypz"
      },
      "execution_count": 729,
      "outputs": []
    },
    {
      "cell_type": "code",
      "source": [
        "def and_neurona(X):\n",
        "  w = np.array([[1], [1]]) \n",
        "  b = np.array([-1.5])\n",
        "  return perceptron(X,w,b)"
      ],
      "metadata": {
        "id": "uF7qQ0soYuGw"
      },
      "execution_count": 730,
      "outputs": []
    },
    {
      "cell_type": "code",
      "source": [
        "def or_neurona(X):\n",
        "  w = np.array([[1], [1]]) \n",
        "  b = np.array([-0.5])\n",
        "  return perceptron(X,w,b)"
      ],
      "metadata": {
        "id": "re4aDv_0ZCny"
      },
      "execution_count": 731,
      "outputs": []
    },
    {
      "cell_type": "markdown",
      "source": [
        "## Definición de la XNOR y evaluación"
      ],
      "metadata": {
        "id": "ct6gd8P3tkPK"
      }
    },
    {
      "cell_type": "markdown",
      "source": [
        "Sabiendo que la operación lógica XNOR se puede definir como:\n",
        "${\\displaystyle {\\overline {(A+B)}}+(A\\cdot B)}$\n",
        "\n",
        "Lo que es igual a: $OR(NOT(OR(x_1,x_2)),AND(x_1,x_2))$\n",
        "\n",
        "Entonces se construye la red con base en esa definición:"
      ],
      "metadata": {
        "id": "KyfNHzsIg9CF"
      }
    },
    {
      "cell_type": "code",
      "source": [
        "#X es el vector de entrada de tamanio (4,2), donde cada renglon \n",
        "#corresponde a la tupla de entrada (x_1,x_2)\n",
        "X = np.array([[0,0],[0,1],[1,0],[1,1]])\n",
        "y1 = or_neurona(X) #(x_1+x_2)\n",
        "y2 = and_neurona(X) #(x_1*x_2)\n",
        "y3 = not_neurona(y1)[:,np.newaxis] #Not(x_1+x_2)\n",
        "#EN seguida se concatena la salida de la anterior capa, para pasarla por la ultima \n",
        "#capa u operación logica OR\n",
        "y4 = np.concatenate((y2, y3), axis=1) \n",
        "y = or_neurona(y4) #Not(x_1+x_2)+(x_1*x_2)\n",
        "print('XNOR de X:')\n",
        "print(y)"
      ],
      "metadata": {
        "colab": {
          "base_uri": "https://localhost:8080/"
        },
        "id": "o-L3oQLuZP2I",
        "outputId": "1b554c09-5c76-4351-d4d5-bfccdf3d4aec"
      },
      "execution_count": 732,
      "outputs": [
        {
          "output_type": "stream",
          "name": "stdout",
          "text": [
            "XNOR de X:\n",
            "[[1.]\n",
            " [0.]\n",
            " [0.]\n",
            " [1.]]\n"
          ]
        }
      ]
    },
    {
      "cell_type": "markdown",
      "source": [
        "Como se observa en este ejercicio, con la ayuda de las operaciones lógicas simples definidas por una neurona, se pueden construir redes mas complejas para obtener resultados específico en tareas de clasificación.\n",
        "También por ahora solo se trabajó con la función de activación escalón unitario pero se podrían hacer uso de otras funciónes dependiendo el problema que se desee soluciónar o incluso mezclar las funciones de activación en las diferentes capas de la red."
      ],
      "metadata": {
        "id": "DKU3bRhJsW-Q"
      }
    }
  ]
}