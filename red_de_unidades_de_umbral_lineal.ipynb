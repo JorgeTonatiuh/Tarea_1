{
  "nbformat": 4,
  "nbformat_minor": 0,
  "metadata": {
    "colab": {
      "provenance": [],
      "collapsed_sections": [],
      "authorship_tag": "ABX9TyP48ndqHhXYpcMm7wkI7ggO",
      "include_colab_link": true
    },
    "kernelspec": {
      "name": "python3",
      "display_name": "Python 3"
    },
    "language_info": {
      "name": "python"
    }
  },
  "cells": [
    {
      "cell_type": "markdown",
      "metadata": {
        "id": "view-in-github",
        "colab_type": "text"
      },
      "source": [
        "<a href=\"https://colab.research.google.com/github/JorgeTonatiuh/Tarea_1/blob/main/red_de_unidades_de_umbral_lineal.ipynb\" target=\"_parent\"><img src=\"https://colab.research.google.com/assets/colab-badge.svg\" alt=\"Open In Colab\"/></a>"
      ]
    },
    {
      "cell_type": "markdown",
      "source": [
        "# Red de unidades de umbral lineal"
      ],
      "metadata": {
        "id": "QrDpwPCR80xM"
      }
    },
    {
      "cell_type": "markdown",
      "source": [
        "Programa y evalúa una red de neuronas con funciones de activación escalón unitario que aproxime la operación XNOR (⊙)."
      ],
      "metadata": {
        "id": "dl6B48CBC9RJ"
      }
    },
    {
      "cell_type": "code",
      "source": [
        "import numpy as np\n",
        "np.random.seed(42) # por reproducibilidad\n",
        "\n",
        "import pandas as pd"
      ],
      "metadata": {
        "id": "_dVC_85t88A9"
      },
      "execution_count": 3,
      "outputs": []
    },
    {
      "cell_type": "code",
      "source": [
        "# Se define la funcion escalón unitario\n",
        "def step(x):\n",
        "    return np.heaviside(x, 1)"
      ],
      "metadata": {
        "id": "dMKBubcOfHLG"
      },
      "execution_count": 677,
      "outputs": []
    },
    {
      "cell_type": "code",
      "source": [
        "def perceptron(X,w,b):\n",
        "  z = X @ w + b\n",
        "  return step(z)"
      ],
      "metadata": {
        "id": "9M55zk30XHAU"
      },
      "execution_count": 691,
      "outputs": []
    },
    {
      "cell_type": "code",
      "source": [
        "def not_newron(X):\n",
        "  w = np.array([-1]) #size (1,1)\n",
        "  b = np.array([0.5]) #size (1,1)\n",
        "  return perceptron(X,w,b)"
      ],
      "metadata": {
        "id": "z_JqAfGjXypz"
      },
      "execution_count": 698,
      "outputs": []
    },
    {
      "cell_type": "code",
      "source": [
        "def and_newron(X):\n",
        "  w = np.array([[1], [1]]) #size (2, 1)\n",
        "  b = np.array([-1.5]) #size (1, 1)\n",
        "  return perceptron(X,w,b)"
      ],
      "metadata": {
        "id": "uF7qQ0soYuGw"
      },
      "execution_count": 699,
      "outputs": []
    },
    {
      "cell_type": "code",
      "source": [
        "def or_newron(X):\n",
        "  w = np.array([[1], [1]]) #size (2, 1)\n",
        "  b = np.array([-0.5]) #size (1, 1)\n",
        "  return perceptron(X,w,b)"
      ],
      "metadata": {
        "id": "re4aDv_0ZCny"
      },
      "execution_count": 701,
      "outputs": []
    },
    {
      "cell_type": "code",
      "source": [
        "X = np.array([[0,0],[0,1],[1,0],[1,1]]) #size (4,2)\n",
        "\n",
        "y1 = or_newron(X)\n",
        "y2 = and_newron(X)\n",
        "y3 = not_newron(y1)[:,np.newaxis]\n",
        "y4 = np.concatenate((y2, y3), axis=1) \n",
        "y = or_newron(y4)\n",
        "print(y)"
      ],
      "metadata": {
        "colab": {
          "base_uri": "https://localhost:8080/"
        },
        "id": "o-L3oQLuZP2I",
        "outputId": "50fe2b4f-5e63-4554-f856-a3be0f734bbd"
      },
      "execution_count": 712,
      "outputs": [
        {
          "output_type": "stream",
          "name": "stdout",
          "text": [
            "[[1.]\n",
            " [0.]\n",
            " [0.]\n",
            " [1.]]\n"
          ]
        }
      ]
    }
  ]
}