{
  "nbformat": 4,
  "nbformat_minor": 0,
  "metadata": {
    "colab": {
      "provenance": [],
      "collapsed_sections": [],
      "authorship_tag": "ABX9TyOffk9CpX7FnHE4gC/wQCKn",
      "include_colab_link": true
    },
    "kernelspec": {
      "name": "python3",
      "display_name": "Python 3"
    },
    "language_info": {
      "name": "python"
    }
  },
  "cells": [
    {
      "cell_type": "markdown",
      "metadata": {
        "id": "view-in-github",
        "colab_type": "text"
      },
      "source": [
        "<a href=\"https://colab.research.google.com/github/JorgeTonatiuh/Tarea_1/blob/main/red_de_unidades_de_umbral_lineal.ipynb\" target=\"_parent\"><img src=\"https://colab.research.google.com/assets/colab-badge.svg\" alt=\"Open In Colab\"/></a>"
      ]
    },
    {
      "cell_type": "markdown",
      "source": [
        "# Red de unidades de umbral lineal"
      ],
      "metadata": {
        "id": "QrDpwPCR80xM"
      }
    },
    {
      "cell_type": "markdown",
      "source": [
        "Programa y evalúa una red de neuronas con funciones de activación escalón unitario que aproxime la operación XNOR (⊙) dada por\n",
        "<center>\n",
        "\n",
        "| $$X_1$$ | $$X_2$$ | $$Y$$ |\n",
        "| --- | --- | --- |\n",
        "| 0 | 0 | 1 |\n",
        "| 0 | 1 | 0 |\n",
        "| 1 | 0 | 0 |\n",
        "| 1 | 1 | 1 |\n",
        "\n",
        "</center>"
      ],
      "metadata": {
        "id": "dl6B48CBC9RJ"
      }
    },
    {
      "cell_type": "code",
      "source": [],
      "metadata": {
        "id": "_dVC_85t88A9"
      },
      "execution_count": null,
      "outputs": []
    }
  ]
}