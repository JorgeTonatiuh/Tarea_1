{
  "nbformat": 4,
  "nbformat_minor": 0,
  "metadata": {
    "colab": {
      "provenance": [],
      "collapsed_sections": [],
      "authorship_tag": "ABX9TyO9OmlAj8nhroHbKz21WUTx",
      "include_colab_link": true
    },
    "kernelspec": {
      "name": "python3",
      "display_name": "Python 3"
    },
    "language_info": {
      "name": "python"
    }
  },
  "cells": [
    {
      "cell_type": "markdown",
      "metadata": {
        "id": "view-in-github",
        "colab_type": "text"
      },
      "source": [
        "<a href=\"https://colab.research.google.com/github/JorgeTonatiuh/Tarea_1/blob/main/retropropagacion_en_red_densa.ipynb\" target=\"_parent\"><img src=\"https://colab.research.google.com/assets/colab-badge.svg\" alt=\"Open In Colab\"/></a>"
      ]
    },
    {
      "cell_type": "markdown",
      "source": [
        "# Retropropagación en red densa."
      ],
      "metadata": {
        "id": "eAsEmMz_vaTs"
      }
    },
    {
      "cell_type": "markdown",
      "source": [
        "Programa el algoritmo de retropropagación usando NumPy para una tarea de clasificación binaria presuponiendo una red densa con dos capas ocultas. Esta red tiene una función de activación logística en todas sus neuronas y se entrena minimizando la función de pérdida de entropía cruzada binaria. Describe las fórmulas y reglas de actualización de los pesos y sesgos de cada capa y entrena y evalúa la red en algún conjunto de datos."
      ],
      "metadata": {
        "id": "20HoInYNzrh2"
      }
    },
    {
      "cell_type": "code",
      "source": [
        "from sklearn import datasets\n",
        "import numpy as np\n",
        "import pandas as pd\n",
        "from sklearn.model_selection import train_test_split"
      ],
      "metadata": {
        "id": "ilH_pdEAvdrD"
      },
      "execution_count": 35,
      "outputs": []
    },
    {
      "cell_type": "markdown",
      "source": [
        "## Dataset"
      ],
      "metadata": {
        "id": "nNsgh3GNF_KV"
      }
    },
    {
      "cell_type": "markdown",
      "source": [
        "Para entrenar el modelo se utilizará el dataset de flores iris el cual contiene la información de 3 clases de estas flores.\n",
        "\n",
        "1.- Las 3 clases de iris son: \n",
        "\n",
        "1.   Iris Setosa\n",
        "2.   Iris Versicolour\n",
        "3.   Iris Virginica\n",
        "\n",
        "2.- Los atributos que contiene el dataset son:\n",
        "\n",
        "1.   Longitud del sépalo\n",
        "2.   Ancho del sépalo\n",
        "3.   Longitud del pétalo\n",
        "4.   Ancho del pétalo\n",
        "\n",
        "3.- Número de instancias: 150 (50 en cada una de las tres clases)\n",
        "\n",
        "4.- Este dataset no contiene valores faltantes"
      ],
      "metadata": {
        "id": "hEm3oMgUDj06"
      }
    },
    {
      "cell_type": "code",
      "source": [
        "#Se obiene el dataset utilizando sklearn datasets\n",
        "iris = datasets.load_iris()"
      ],
      "metadata": {
        "id": "ax2kx9-1B5wC"
      },
      "execution_count": 21,
      "outputs": []
    },
    {
      "cell_type": "code",
      "source": [
        "#Se obtiene la data de los atributos\n",
        "data = iris.data"
      ],
      "metadata": {
        "id": "qe__zKNEJCKz"
      },
      "execution_count": 20,
      "outputs": []
    },
    {
      "cell_type": "code",
      "source": [
        "#Se obtiene el target\n",
        "#Dado que las clases estan representadas numericamente en el dataset original\n",
        "#se transforman estas represaentaciones aplicando One-hot encoding\n",
        "s = pd.Series(iris.target)\n",
        "target = pd.get_dummies(s).to_numpy()"
      ],
      "metadata": {
        "id": "eOJo8RtKHyM1"
      },
      "execution_count": 33,
      "outputs": []
    },
    {
      "cell_type": "markdown",
      "source": [
        "Dividimos aleatoriamente el conjunto de datos en 80% para entrenamiento y 20% para validación. Para eso usaremos la funcion train_test_split de scikit-learn."
      ],
      "metadata": {
        "id": "qay2O1AiRKb2"
      }
    },
    {
      "cell_type": "code",
      "source": [
        "X_ent, X_valid, y_ent, y_valid = train_test_split(data, target, test_size=0.2, random_state=42)"
      ],
      "metadata": {
        "id": "wCF59n2NQ-gC"
      },
      "execution_count": 36,
      "outputs": []
    },
    {
      "cell_type": "markdown",
      "source": [
        "## Entrenamiento del modelo"
      ],
      "metadata": {
        "id": "AKyduyx-NDNe"
      }
    },
    {
      "cell_type": "markdown",
      "source": [
        "Se calcularan los pesos para una red densa con dos capas ocultas."
      ],
      "metadata": {
        "id": "WcQIBcYNOxm9"
      }
    },
    {
      "cell_type": "code",
      "source": [
        "# Inicializamos los pesos con números aleatorios\n",
        "w = np.random.rand(X_ent.shape[1], 1)\n",
        "# Inicializamos el sesgo con 0\n",
        "b = np.zeros((1, 1))"
      ],
      "metadata": {
        "id": "o1-6GawlNHPS"
      },
      "execution_count": 37,
      "outputs": []
    },
    {
      "cell_type": "code",
      "source": [
        "X_ent.shape[0]"
      ],
      "metadata": {
        "colab": {
          "base_uri": "https://localhost:8080/"
        },
        "id": "VVlZMBUZT9Hg",
        "outputId": "bd11ab0f-1049-4621-ed15-92a2e43c5a54"
      },
      "execution_count": 40,
      "outputs": [
        {
          "output_type": "execute_result",
          "data": {
            "text/plain": [
              "120"
            ]
          },
          "metadata": {},
          "execution_count": 40
        }
      ]
    }
  ]
}