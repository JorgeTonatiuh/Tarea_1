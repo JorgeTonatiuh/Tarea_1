{
  "nbformat": 4,
  "nbformat_minor": 0,
  "metadata": {
    "colab": {
      "provenance": [],
      "collapsed_sections": [],
      "authorship_tag": "ABX9TyPm/5gZ1N622DARF1V6WA9k",
      "include_colab_link": true
    },
    "kernelspec": {
      "name": "python3",
      "display_name": "Python 3"
    },
    "language_info": {
      "name": "python"
    }
  },
  "cells": [
    {
      "cell_type": "markdown",
      "metadata": {
        "id": "view-in-github",
        "colab_type": "text"
      },
      "source": [
        "<a href=\"https://colab.research.google.com/github/JorgeTonatiuh/Tarea_1/blob/main/retropropagacion_en_red_densa.ipynb\" target=\"_parent\"><img src=\"https://colab.research.google.com/assets/colab-badge.svg\" alt=\"Open In Colab\"/></a>"
      ]
    },
    {
      "cell_type": "markdown",
      "source": [
        "# Retropropagación en red densa."
      ],
      "metadata": {
        "id": "eAsEmMz_vaTs"
      }
    },
    {
      "cell_type": "markdown",
      "source": [
        "Programa el algoritmo de retropropagación usando NumPy para una tarea de clasificación binaria presuponiendo una red densa con dos capas ocultas. Esta red tiene una función de activación logística en todas sus neuronas y se entrena minimizando la función de pérdida de entropía cruzada binaria. Describe las fórmulas y reglas de actualización de los pesos y sesgos de cada capa y entrena y evalúa la red en algún conjunto de datos."
      ],
      "metadata": {
        "id": "20HoInYNzrh2"
      }
    },
    {
      "cell_type": "code",
      "source": [
        "from sklearn import datasets\n",
        "import numpy as np\n",
        "import pandas as pd"
      ],
      "metadata": {
        "id": "ilH_pdEAvdrD"
      },
      "execution_count": 135,
      "outputs": []
    },
    {
      "cell_type": "markdown",
      "source": [
        "## Dataset"
      ],
      "metadata": {
        "id": "nNsgh3GNF_KV"
      }
    },
    {
      "cell_type": "markdown",
      "source": [
        "Para entrenar el modelo se utilizará el dataset de flores iris el cual contiene la información de 3 clases de estas flores.\n",
        "\n",
        "1.- Las 3 clases de iris son: \n",
        "\n",
        "1.   Iris Setosa\n",
        "2.   Iris Versicolour\n",
        "3.   Iris Virginica\n",
        "\n",
        "2.- Los atributos que contiene el dataset son:\n",
        "\n",
        "1.   Longitud del sépalo\n",
        "2.   Ancho del sépalo\n",
        "3.   Longitud del pétalo\n",
        "4.   Ancho del pétalo\n",
        "\n",
        "3.- Número de instancias: 150 (50 en cada una de las tres clases)\n",
        "\n",
        "4.- Este dataset no contiene valores faltantes"
      ],
      "metadata": {
        "id": "hEm3oMgUDj06"
      }
    },
    {
      "cell_type": "code",
      "source": [
        "#Se obiene el dataset utilizando sklearn datasets\n",
        "iris = datasets.load_iris()"
      ],
      "metadata": {
        "id": "ax2kx9-1B5wC"
      },
      "execution_count": 136,
      "outputs": []
    },
    {
      "cell_type": "code",
      "source": [
        "#Se obtiene la data de los atributos\n",
        "data = iris.data"
      ],
      "metadata": {
        "id": "qe__zKNEJCKz"
      },
      "execution_count": 137,
      "outputs": []
    },
    {
      "cell_type": "code",
      "source": [
        "#Se obtiene el target\n",
        "#Dado que las clases estan representadas numericamente en el dataset original\n",
        "#se transforman estas represaentaciones aplicando One-hot encoding\n",
        "s = pd.Series(iris.target)\n",
        "target = pd.get_dummies(s).to_numpy()"
      ],
      "metadata": {
        "id": "eOJo8RtKHyM1"
      },
      "execution_count": 138,
      "outputs": []
    },
    {
      "cell_type": "markdown",
      "source": [
        "## Entrenamiento del modelo"
      ],
      "metadata": {
        "id": "AKyduyx-NDNe"
      }
    },
    {
      "cell_type": "markdown",
      "source": [
        "La red esta compuesta por una capa de 4 entradas $(x_1,x_2,x_3,x_4)$, dos capas ocultas con neuronas con función de activación sigmoide y una capa de salida con 3 neurnas con función de activación sigmoide. Esta función se define como:\n",
        "\n",
        "$$σ(z)=\\frac{1}{1+e^{-z}}$$\n"
      ],
      "metadata": {
        "id": "WcQIBcYNOxm9"
      }
    },
    {
      "cell_type": "code",
      "source": [
        "def sigmoide(z):\n",
        "  return 1 / (1 + np.exp(-z))"
      ],
      "metadata": {
        "id": "8xT56qEJyIxC"
      },
      "execution_count": 140,
      "outputs": []
    },
    {
      "cell_type": "markdown",
      "source": [
        "Mas adelante se utilizará la derivada de la sigmoide para la retropagación entonces esta esta definida como:\n",
        "\n",
        "$$\\frac{∂σ(z)}{∂z}=σ(z)(1-σ(z))$$"
      ],
      "metadata": {
        "id": "hRK1FpyOyT4N"
      }
    },
    {
      "cell_type": "code",
      "source": [
        "def dsigmoide(z):\n",
        "  return np.multiply(sigmoide(z),(1 - sigmoide(z)))"
      ],
      "metadata": {
        "id": "FKeuIdn-yzVO"
      },
      "execution_count": 141,
      "outputs": []
    },
    {
      "cell_type": "markdown",
      "source": [
        "Dado que la tarea es de clasificación multietiqueta apartir de 4 entradas se utiliza como función de peridda la entropía cruzada binaria, la cual se define de la siguiente manera:\n",
        "\n",
        "$$ECB(y,\\hat{y})=-\\sum_{i=1}^{N}[y^{(i)}log (\\hat{y}^{(i)}) + (1-y^{(i)})log(1-\\hat{y}^{(i)})]$$"
      ],
      "metadata": {
        "id": "IjaisrdzzGaD"
      }
    },
    {
      "cell_type": "code",
      "source": [
        "def ECB(y,p):\n",
        "  p[p == 0] = np.nextafter(0.,1.) #Para evitar logaritmos de 0\n",
        "  p[p == 1] = np.nextafter(1.,0.) #Para evitar logaritmos de 1\n",
        "  return -(np.log(p[y == 1]).sum() + np.log(1 - p[y==0]).sum())"
      ],
      "metadata": {
        "id": "6CQbSjGN2Wyg"
      },
      "execution_count": 142,
      "outputs": []
    },
    {
      "cell_type": "markdown",
      "source": [
        "Se define la exactitud como medida de evaluación del modelo."
      ],
      "metadata": {
        "id": "uJnpNQZM4oSD"
      }
    },
    {
      "cell_type": "code",
      "source": [
        "def exactitud(y, y_pred):\n",
        "  return (y == y_pred).mean() * 100"
      ],
      "metadata": {
        "id": "uSl2C72z4wdf"
      },
      "execution_count": 143,
      "outputs": []
    },
    {
      "cell_type": "markdown",
      "source": [
        "A continuación se define la funcion para propagar las entradas hacia adelante. \n",
        "Dado que la red esta compuesta de 3 capas densas, es decir, 2 ocultas y 1 de salida, tenemos 3 matrices de pesos con sus correspondientes vecotres de sesgos de las capas ocultas y la de salida. Con esto la propagacion hacia adelante queda de la siguiente forma:\n",
        "\n",
        "$$a^{\\{1\\}}=x^{(i)}$$\n",
        "$$z^{\\{2\\}}=W^{\\{1\\}}⋅a^{\\{1\\}}+b^1$$\n",
        "$$a^{\\{2\\}}=σ(z^{\\{2\\}})$$\n",
        "$$z^{\\{3\\}}=W^{\\{3\\}}⋅a^{\\{3\\}}+b^2$$\n",
        "$$a^{\\{3\\}}=σ(z^{\\{3\\}})$$\n",
        "$$z^{\\{4\\}}=W^{\\{3\\}}⋅a^{\\{3\\}}+b^3$$\n",
        "$$a^{\\{4\\}}=σ(z^{\\{4\\}})$$\n",
        "$$\\hat{y}^{(i)}=a^4$$\n",
        "\n",
        "Donde $\\hat{y}^{(i)}$ es el valor de actualización de la capa de salida.\n"
      ],
      "metadata": {
        "id": "SbeCGAE_5A1I"
      }
    },
    {
      "cell_type": "code",
      "source": [
        "def adelante(x, W1, b1, W2, b2, W3, b3):\n",
        "  a1 = x[:, np.newaxis]\n",
        "  z2 = np.dot(W1.T, a1) + b1\n",
        "  a2 = sigmoide(z2)\n",
        "  z3 = np.dot(W2.T, a2) + b2\n",
        "  a3 = sigmoide(z3)\n",
        "  z4 = np.dot(W3.T, a3) + b3\n",
        "  a4 = sigmoide(z4)\n",
        "  y_hat = a4\n",
        "  return z2,a2,z3,a3,z4,y_hat"
      ],
      "metadata": {
        "id": "_OpOoC-98VdT"
      },
      "execution_count": 161,
      "outputs": []
    },
    {
      "cell_type": "markdown",
      "source": [
        "A continuación se define la función para entrenar la red usando gradiente descendente. Se utiliza el algorimto de retropropagación para calcular el gradiente de la perdida respecto a los pesos y sesgos en cada capa. \n",
        "\n",
        "Para esto se debe de calcular el gradiente de la funcion de perdida con respecto a $W^{\\{j\\}}$ \n",
        "\n",
        "$$ECB(y,\\hat{y})=-\\sum_{i=1}^{N}[y^{(i)}log (\\hat{y}^{(i)}) + (1-y^{(i)})log(1-\\hat{y}^{(i)})]$$\n",
        "\n",
        "$$\\frac{∂ECB}{∂W^{\\{j\\}}} = \\sum_{i=1}^{N}(\\hat{y}^{(i)}-y^{(i)})⋅x_j^{(i)}$$\n",
        "\n",
        "$$\\frac{∂ECB}{∂b^{\\{j\\}}} = \\sum_{i=1}^{N}(\\hat{y}^{(i)}-y^{(i)})$$\n",
        "Y la regla de actualización de parámetros esta dada por:\n",
        "$$W^{\\{j\\}}=W^{\\{j\\}}-α\\frac{∂ECB}{∂W^{\\{j\\}}}$$\n",
        "$$b^{\\{j\\}}=b^{\\{j\\}}-σ\\frac{∂ECB}{∂b^{\\{j\\}}}$$\n",
        "\n",
        "Donde $σ$ es tasa de aprendizaje."
      ],
      "metadata": {
        "id": "2xHyXdhd9qBN"
      }
    },
    {
      "cell_type": "code",
      "source": [
        "def retropropagacion(X,y, alpha = 0.01, n_epocas=100, n_ocultas = 10):\n",
        "  n_ejemplos = X.shape[0]\n",
        "  n_entradas = X.shape[1]\n",
        "\n",
        "  #Se inician los pesos W1, W2, W3 y sesgos\n",
        "  W1 = np.sqrt(1.0 / n_entradas) * np.random.randn(n_entradas, n_ocultas)\n",
        "  b1 = np.zeros((n_ocultas, 1))\n",
        "\n",
        "  W2 = np.sqrt(1.0 / n_ocultas) * np.random.randn(n_ocultas, n_ocultas)\n",
        "  b2 = np.zeros((n_ocultas,1))\n",
        "\n",
        "  W3 = np.sqrt(1.0 / n_ocultas) * np.random.randn(n_ocultas, 3)\n",
        "  b3 = np.zeros((3,1))\n",
        "\n",
        "  perdidas = np.zeros((n_epocas))\n",
        "  exactitudes = np.zeros((n_epocas))\n",
        "  y_pred = np.zeros((y.shape))\n",
        "  for i in range(n_epocas):\n",
        "    for j in range(n_ejemplos):\n",
        "      z2, a2, z3, a3, z4, y_hat = adelante(X[j], W1, b1, W2, b2, W3, b3)\n",
        "\n",
        "      #Se calcula el gradiente para W3 y b3\n",
        "      dz4 = y_hat - y[j][:,np.newaxis]\n",
        "      dW3 = np.outer(a3,dz4)\n",
        "      db3 = dz4\n",
        "\n",
        "      #Se calcula el gradiente para W2 y b2\n",
        "      dz3 = np.dot(W3, dz4) * dsigmoide(z3)\n",
        "      dW2 = np.outer(a2,dz3)\n",
        "      db2 = dz3\n",
        "\n",
        "      #Se calcula el gradiente para W1 y b1\n",
        "      dz2 = np.dot(W2, dz3) * dsigmoide(z2)\n",
        "      dW1 = np.outer(X[j], dz2)\n",
        "      db1 = dz2\n",
        "\n",
        "      #Se actualizan los parametros\n",
        "      W3 = W3 - alpha * dW3\n",
        "      b3 = b3 - alpha * db3\n",
        "      W2 = W2 - alpha * dW2\n",
        "      b2 = b2 - alpha * db2\n",
        "      W1 = W1 - alpha * dW1\n",
        "      b1 = b1 - alpha * db1\n",
        "\n",
        "      y_pred[j][:,np.newaxis] = y_hat\n",
        "\n",
        "    # Se calcula la perdida en la epoca \n",
        "    perdidas[i] = ECB(y, y_pred)\n",
        "    #Se guarda la exactitud\n",
        "    exactitudes[i] = exactitud(y, np.round(y_pred))\n",
        "\n",
        "  return W1,W2,W3,b1,b2,b3,perdidas,exactitudes\n",
        "\n",
        "\n"
      ],
      "metadata": {
        "id": "AZrfKWEGtDL9"
      },
      "execution_count": 145,
      "outputs": []
    },
    {
      "cell_type": "markdown",
      "source": [
        "Se procede a entrenar el modelo, se configura la red con una tasa de apredizaje $σ=0.01$, 4 neuronas en la capa de entrada (debido a que son 4 atributos de dataset de iris) 10 neuronas en cada capa oculta y 3 neuronas en la capa de salida, las cuales nos indican a que tipo de flor de iris corresponde y por último un número de épocas de 200."
      ],
      "metadata": {
        "id": "YzGQso3R9ogm"
      }
    },
    {
      "cell_type": "code",
      "source": [
        "np.random.seed(0)\n",
        "W1,W2,W3,b1,b2,b3,perdidas,exactitudes = retropropagacion(data,target,alpha=0.01,n_epocas=200,n_ocultas=10)"
      ],
      "metadata": {
        "id": "fXbmCEokFdru"
      },
      "execution_count": 146,
      "outputs": []
    },
    {
      "cell_type": "markdown",
      "source": [
        "Se grafica la perdida y la exactitud en cada una de las épocas para observar el compotamiento durante el entrenamiento de la red.\n",
        "\n",
        "En la siguiente tabla se puede observar como en las primeras épocas la perdida tiene un valor muy alto, el cuál va disminuyendo conforme las épocas van avanzando, y para el caso de la exactitud esta inicia en un valor vajo y conforme pasan las épocas va aumentando, lo que nos indica que nuestro modelo va mejorando conforme pasan las épocas."
      ],
      "metadata": {
        "id": "tKvoOLs9PNfl"
      }
    },
    {
      "cell_type": "code",
      "source": [
        "import matplotlib.pyplot as plt\n",
        "plt.plot(np.arange(perdidas.size),perdidas,label='ECB')\n",
        "plt.plot(np.arange(exactitudes.size), exactitudes, label='Exactitud')\n",
        "plt.legend()\n",
        "plt.grid(True)\n",
        "plt.show()"
      ],
      "metadata": {
        "colab": {
          "base_uri": "https://localhost:8080/",
          "height": 265
        },
        "id": "Ko0BcGk6PZBX",
        "outputId": "4a46d661-80d1-4261-e395-d6ceac0420b5"
      },
      "execution_count": 147,
      "outputs": [
        {
          "output_type": "display_data",
          "data": {
            "text/plain": [
              "<Figure size 432x288 with 1 Axes>"
            ],
            "image/png": "[encoded data removed]"
          },
          "metadata": {
            "needs_background": "light"
          }
        }
      ]
    },
    {
      "cell_type": "markdown",
      "source": [
        "## Evaluación"
      ],
      "metadata": {
        "id": "BUs0lLDPb6d5"
      }
    },
    {
      "cell_type": "markdown",
      "source": [
        "A continuación se evalua el modelo utilizando los pesos y sesgos obtenidos del entrenamiento.\n"
      ],
      "metadata": {
        "id": "utbtrAqXW_-2"
      }
    },
    {
      "cell_type": "code",
      "source": [
        "n_ejemplos = data.shape[0]\n",
        "y_pred = np.zeros((target.shape))\n",
        "for j in range(n_ejemplos):\n",
        "  _, _, _, _, _, y_hat = adelante(data[j], W1, b1, W2, b2, W3, b3)\n",
        "  y_pred[j] = [int(i > .5) for i in y_hat]\n",
        "  \n",
        "print('Exactitud = ',exactitud(target, y_pred))"
      ],
      "metadata": {
        "colab": {
          "base_uri": "https://localhost:8080/"
        },
        "id": "OMCkMuiAXGfh",
        "outputId": "02ff8697-d491-4185-c7b9-ba104f70a168"
      },
      "execution_count": 159,
      "outputs": [
        {
          "output_type": "stream",
          "name": "stdout",
          "text": [
            "Exactitud =  95.11111111111111\n"
          ]
        }
      ]
    },
    {
      "cell_type": "markdown",
      "source": [
        "Con la ayuda del algoritmo de retropropagación se pueden entrenar los modelos referentes a redes neuronales densas, lo único que se tendría que cambiar dependiendo el problema sería la función de pérdida, en este caso como se trata de un problema de clasificación binario de multietiquedas se utilizó la entropía cruzada binaria, pero esta tendría que cambiar si se trata de una tarea de regresión que se utilizaría un error cuadrático medio y al igual que se realizó con la ECB se tendría que obtener el gradiente para minimizar la función y definir la función de actualización, otra cosa que también se debe tomar en cuenta es el numero de capas a utilizar dado que esto afecta directamente en el cálculo de los pesos.\n",
        "Además de la la función de pérdida también las funciones de activación utilizadas podrían cambiar."
      ],
      "metadata": {
        "id": "tP4KHV-hLiGR"
      }
    }
  ]
}