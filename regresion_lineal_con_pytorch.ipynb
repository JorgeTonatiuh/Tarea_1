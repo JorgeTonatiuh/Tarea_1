{
  "nbformat": 4,
  "nbformat_minor": 0,
  "metadata": {
    "colab": {
      "provenance": [],
      "collapsed_sections": [],
      "authorship_tag": "ABX9TyPP+Cu6L7jy4b3aT8f2x/+S",
      "include_colab_link": true
    },
    "kernelspec": {
      "name": "python3",
      "display_name": "Python 3"
    },
    "language_info": {
      "name": "python"
    }
  },
  "cells": [
    {
      "cell_type": "markdown",
      "metadata": {
        "id": "view-in-github",
        "colab_type": "text"
      },
      "source": [
        "<a href=\"https://colab.research.google.com/github/JorgeTonatiuh/Tarea_1/blob/main/regresion_lineal_con_pytorch.ipynb\" target=\"_parent\"><img src=\"https://colab.research.google.com/assets/colab-badge.svg\" alt=\"Open In Colab\"/></a>"
      ]
    },
    {
      "cell_type": "markdown",
      "source": [
        "# Regresión lineal con PyTorch"
      ],
      "metadata": {
        "id": "ah7573E1qv_P"
      }
    },
    {
      "cell_type": "markdown",
      "source": [
        "Entrena y evalúa un modelo de regresión lineal para el conjunto de datos de calificaciones que\n",
        "considere los dos atributos de entrada.\n",
        "\n",
        "Especificaciones:\n",
        "*   Grafica los datos en 3D.\n",
        "*   Realiza la definición de la arquitectura usando tanto la interfaz de alto como la de medio nivel.\n",
        "*   Prueba distintos valores para los hiperparámetros.\n",
        "*   Realiza una predicción con tu modelo entrenado para la calificación que tendría un alumno si sabemos que estudió durante 12 horas para el examen y en un examen previo obtuvo 3 de calificación.\n",
        "*   Discute las modificaciones que realizaste y las distintas configuraciones para los hiperparámetros que probaste.\n",
        "\n",
        "\n",
        "\n",
        "\n",
        "\n",
        "\n",
        "\n",
        "\n"
      ],
      "metadata": {
        "id": "bqDDFRaCqzTG"
      }
    },
    {
      "cell_type": "code",
      "source": [
        "import math\n",
        "# sistema de archivos\n",
        "import os\n",
        "# números aleatorios\n",
        "import random\n",
        "\n",
        "# gráficas\n",
        "import matplotlib.pyplot as plt\n",
        "# arreglos multidimensionales\n",
        "import numpy as np\n",
        "# csv\n",
        "import pandas as pd\n",
        "\n",
        "# redes neuronales\n",
        "import torch\n",
        "import torch.nn as nn\n",
        "import torch.nn.functional as F\n",
        "import torch.optim as optim\n",
        "\n",
        "from torch.utils.data import DataLoader, TensorDataset\n"
      ],
      "metadata": {
        "id": "k-vln_GQqypj"
      },
      "execution_count": 1,
      "outputs": []
    },
    {
      "cell_type": "markdown",
      "source": [
        "## Dataset"
      ],
      "metadata": {
        "id": "FYmMQGlj0V3J"
      }
    },
    {
      "cell_type": "code",
      "source": [
        "# datos\n",
        "URL = 'https://raw.githubusercontent.com/gibranfp/CursoAprendizajeProfundo/2022-1/data/califs.csv'\n",
        "data_dir = '../data'\n",
        "filepath = os.path.join(data_dir, 'califs.csv')\n",
        "\n",
        "def set_seed(seed=0):\n",
        "    \"\"\"Initializes pseudo-random number generators.\"\"\"\n",
        "    random.seed(seed)\n",
        "    np.random.seed(seed)\n",
        "    torch.manual_seed(seed)"
      ],
      "metadata": {
        "id": "-b4WPU700XLR"
      },
      "execution_count": 2,
      "outputs": []
    },
    {
      "cell_type": "markdown",
      "source": [
        "Descargamos los datos."
      ],
      "metadata": {
        "id": "H_g_U3cp04j9"
      }
    },
    {
      "cell_type": "code",
      "source": [
        "! mkdir {data_dir}\n",
        "! wget -nc {URL} -O {filepath}"
      ],
      "metadata": {
        "colab": {
          "base_uri": "https://localhost:8080/"
        },
        "id": "Ll7iqO0X05Sm",
        "outputId": "5790ed86-4ce9-468a-ad45-f31f61f4ce44"
      },
      "execution_count": 3,
      "outputs": [
        {
          "output_type": "stream",
          "name": "stdout",
          "text": [
            "mkdir: cannot create directory ‘../data’: File exists\n",
            "File ‘../data/califs.csv’ already there; not retrieving.\n"
          ]
        }
      ]
    },
    {
      "cell_type": "markdown",
      "source": [
        "Cargamos los datos."
      ],
      "metadata": {
        "id": "S6JyYa2S08Nj"
      }
    },
    {
      "cell_type": "code",
      "source": [
        "df = pd.read_csv(filepath)\n",
        "df.head(5)"
      ],
      "metadata": {
        "colab": {
          "base_uri": "https://localhost:8080/",
          "height": 206
        },
        "id": "9DDhjdFM1AFL",
        "outputId": "353f2ff3-0960-4c25-ec60-3840ddc349d2"
      },
      "execution_count": 4,
      "outputs": [
        {
          "output_type": "execute_result",
          "data": {
            "text/plain": [
              "   prev  horas  calif\n",
              "0   5.6    8.2    5.1\n",
              "1   6.7    9.3    5.9\n",
              "2   5.1   10.0    5.4\n",
              "3   5.7   10.4    6.5\n",
              "4   7.1   10.4    6.7"
            ],
            "text/html": [
              "\n",
              "  <div id=\"df-9f8402f3-3d4c-4fa1-8a8c-ba88891b91be\">\n",
              "    <div class=\"colab-df-container\">\n",
              "      <div>\n",
              "<style scoped>\n",
              "    .dataframe tbody tr th:only-of-type {\n",
              "        vertical-align: middle;\n",
              "    }\n",
              "\n",
              "    .dataframe tbody tr th {\n",
              "        vertical-align: top;\n",
              "    }\n",
              "\n",
              "    .dataframe thead th {\n",
              "        text-align: right;\n",
              "    }\n",
              "</style>\n",
              "<table border=\"1\" class=\"dataframe\">\n",
              "  <thead>\n",
              "    <tr style=\"text-align: right;\">\n",
              "      <th></th>\n",
              "      <th>prev</th>\n",
              "      <th>horas</th>\n",
              "      <th>calif</th>\n",
              "    </tr>\n",
              "  </thead>\n",
              "  <tbody>\n",
              "    <tr>\n",
              "      <th>0</th>\n",
              "      <td>5.6</td>\n",
              "      <td>8.2</td>\n",
              "      <td>5.1</td>\n",
              "    </tr>\n",
              "    <tr>\n",
              "      <th>1</th>\n",
              "      <td>6.7</td>\n",
              "      <td>9.3</td>\n",
              "      <td>5.9</td>\n",
              "    </tr>\n",
              "    <tr>\n",
              "      <th>2</th>\n",
              "      <td>5.1</td>\n",
              "      <td>10.0</td>\n",
              "      <td>5.4</td>\n",
              "    </tr>\n",
              "    <tr>\n",
              "      <th>3</th>\n",
              "      <td>5.7</td>\n",
              "      <td>10.4</td>\n",
              "      <td>6.5</td>\n",
              "    </tr>\n",
              "    <tr>\n",
              "      <th>4</th>\n",
              "      <td>7.1</td>\n",
              "      <td>10.4</td>\n",
              "      <td>6.7</td>\n",
              "    </tr>\n",
              "  </tbody>\n",
              "</table>\n",
              "</div>\n",
              "      <button class=\"colab-df-convert\" onclick=\"convertToInteractive('df-9f8402f3-3d4c-4fa1-8a8c-ba88891b91be')\"\n",
              "              title=\"Convert this dataframe to an interactive table.\"\n",
              "              style=\"display:none;\">\n",
              "        \n",
              "  <svg xmlns=\"http://www.w3.org/2000/svg\" height=\"24px\"viewBox=\"0 0 24 24\"\n",
              "       width=\"24px\">\n",
              "    <path d=\"M0 0h24v24H0V0z\" fill=\"none\"/>\n",
              "    <path d=\"M18.56 5.44l.94 2.06.94-2.06 2.06-.94-2.06-.94-.94-2.06-.94 2.06-2.06.94zm-11 1L8.5 8.5l.94-2.06 2.06-.94-2.06-.94L8.5 2.5l-.94 2.06-2.06.94zm10 10l.94 2.06.94-2.06 2.06-.94-2.06-.94-.94-2.06-.94 2.06-2.06.94z\"/><path d=\"M17.41 7.96l-1.37-1.37c-.4-.4-.92-.59-1.43-.59-.52 0-1.04.2-1.43.59L10.3 9.45l-7.72 7.72c-.78.78-.78 2.05 0 2.83L4 21.41c.39.39.9.59 1.41.59.51 0 1.02-.2 1.41-.59l7.78-7.78 2.81-2.81c.8-.78.8-2.07 0-2.86zM5.41 20L4 18.59l7.72-7.72 1.47 1.35L5.41 20z\"/>\n",
              "  </svg>\n",
              "      </button>\n",
              "      \n",
              "  <style>\n",
              "    .colab-df-container {\n",
              "      display:flex;\n",
              "      flex-wrap:wrap;\n",
              "      gap: 12px;\n",
              "    }\n",
              "\n",
              "    .colab-df-convert {\n",
              "      background-color: #E8F0FE;\n",
              "      border: none;\n",
              "      border-radius: 50%;\n",
              "      cursor: pointer;\n",
              "      display: none;\n",
              "      fill: #1967D2;\n",
              "      height: 32px;\n",
              "      padding: 0 0 0 0;\n",
              "      width: 32px;\n",
              "    }\n",
              "\n",
              "    .colab-df-convert:hover {\n",
              "      background-color: #E2EBFA;\n",
              "      box-shadow: 0px 1px 2px rgba(60, 64, 67, 0.3), 0px 1px 3px 1px rgba(60, 64, 67, 0.15);\n",
              "      fill: #174EA6;\n",
              "    }\n",
              "\n",
              "    [theme=dark] .colab-df-convert {\n",
              "      background-color: #3B4455;\n",
              "      fill: #D2E3FC;\n",
              "    }\n",
              "\n",
              "    [theme=dark] .colab-df-convert:hover {\n",
              "      background-color: #434B5C;\n",
              "      box-shadow: 0px 1px 3px 1px rgba(0, 0, 0, 0.15);\n",
              "      filter: drop-shadow(0px 1px 2px rgba(0, 0, 0, 0.3));\n",
              "      fill: #FFFFFF;\n",
              "    }\n",
              "  </style>\n",
              "\n",
              "      <script>\n",
              "        const buttonEl =\n",
              "          document.querySelector('#df-9f8402f3-3d4c-4fa1-8a8c-ba88891b91be button.colab-df-convert');\n",
              "        buttonEl.style.display =\n",
              "          google.colab.kernel.accessAllowed ? 'block' : 'none';\n",
              "\n",
              "        async function convertToInteractive(key) {\n",
              "          const element = document.querySelector('#df-9f8402f3-3d4c-4fa1-8a8c-ba88891b91be');\n",
              "          const dataTable =\n",
              "            await google.colab.kernel.invokeFunction('convertToInteractive',\n",
              "                                                     [key], {});\n",
              "          if (!dataTable) return;\n",
              "\n",
              "          const docLinkHtml = 'Like what you see? Visit the ' +\n",
              "            '<a target=\"_blank\" href=https://colab.research.google.com/notebooks/data_table.ipynb>data table notebook</a>'\n",
              "            + ' to learn more about interactive tables.';\n",
              "          element.innerHTML = '';\n",
              "          dataTable['output_type'] = 'display_data';\n",
              "          await google.colab.output.renderOutput(dataTable, element);\n",
              "          const docLink = document.createElement('div');\n",
              "          docLink.innerHTML = docLinkHtml;\n",
              "          element.appendChild(docLink);\n",
              "        }\n",
              "      </script>\n",
              "    </div>\n",
              "  </div>\n",
              "  "
            ]
          },
          "metadata": {},
          "execution_count": 4
        }
      ]
    },
    {
      "cell_type": "markdown",
      "source": [
        "## Grafica los datos en 3D."
      ],
      "metadata": {
        "id": "zwQR9nqUsG56"
      }
    },
    {
      "cell_type": "markdown",
      "source": [
        "Graficamos los datos en 3D para tener una idea más clara de como se encuentran distribuidos."
      ],
      "metadata": {
        "id": "9DFiLbSE1RZt"
      }
    },
    {
      "cell_type": "code",
      "source": [
        "# se obtienen los atributos de entrada y se agrega una dimensión\n",
        "xdata = np.array(df.iloc[:,0], dtype='float32')[..., np.newaxis]\n",
        "ydata = np.array(df.iloc[:,1], dtype='float32')[..., np.newaxis]\n",
        "# se obtiene la salda\n",
        "zdata = np.array(df.iloc[:,-1], dtype='float32')[..., np.newaxis]\n",
        "# graficamos\n",
        "fig = plt.figure()\n",
        "ax = plt.axes(projection='3d')\n",
        "ax.scatter3D(xdata, ydata, zdata, c=zdata, cmap='Greens');\n",
        "ax.set_xlabel('Prev')\n",
        "ax.set_ylabel('horas de estudio')\n",
        "ax.set_zlabel('Calificacion');"
      ],
      "metadata": {
        "colab": {
          "base_uri": "https://localhost:8080/",
          "height": 248
        },
        "id": "pRy2tH-M1SH_",
        "outputId": "e51f7d09-1830-4f84-9f82-29602f2d4147"
      },
      "execution_count": 5,
      "outputs": [
        {
          "output_type": "display_data",
          "data": {
            "text/plain": [
              "<Figure size 432x288 with 1 Axes>"
            ],
            "image/png": "[encoded data removed]"
          },
          "metadata": {
            "needs_background": "light"
          }
        }
      ]
    },
    {
      "cell_type": "markdown",
      "source": [
        "Proyección horas de estudio vs Calificacion"
      ],
      "metadata": {
        "id": "k-ujbgM-uYX0"
      }
    },
    {
      "cell_type": "code",
      "source": [
        "ax.view_init(0, 0)\n",
        "fig"
      ],
      "metadata": {
        "colab": {
          "base_uri": "https://localhost:8080/",
          "height": 248
        },
        "id": "neQYsuK_twd8",
        "outputId": "0be4d99c-8fce-4ad2-9388-4aad6f9fb876"
      },
      "execution_count": 6,
      "outputs": [
        {
          "output_type": "execute_result",
          "data": {
            "text/plain": [
              "<Figure size 432x288 with 1 Axes>"
            ],
            "image/png": "[encoded data removed]"
          },
          "metadata": {},
          "execution_count": 6
        }
      ]
    },
    {
      "cell_type": "markdown",
      "source": [
        "Proyección Prev vs Calificacion"
      ],
      "metadata": {
        "id": "ZI7LKb_Xuk7u"
      }
    },
    {
      "cell_type": "code",
      "source": [
        "ax.view_init(0, 90)\n",
        "fig"
      ],
      "metadata": {
        "colab": {
          "base_uri": "https://localhost:8080/",
          "height": 248
        },
        "id": "8D8BQYpyuIH9",
        "outputId": "d043825b-59b7-4e5a-d97f-c64a9fcacea6"
      },
      "execution_count": 7,
      "outputs": [
        {
          "output_type": "execute_result",
          "data": {
            "text/plain": [
              "<Figure size 432x288 with 1 Axes>"
            ],
            "image/png": "[encoded data removed]"
          },
          "metadata": {},
          "execution_count": 7
        }
      ]
    },
    {
      "cell_type": "code",
      "source": [
        "x_trn = np.array(df.iloc[:,:2], dtype=\"float32\")\n",
        "y_trn = np.array(df.iloc[:,-1], dtype=\"float32\")[..., np.newaxis]\n",
        "\n",
        "x_trn = torch.tensor(x_trn)\n",
        "y_trn = torch.tensor(y_trn)\n",
        "\n",
        "print(x_trn.shape)\n",
        "print(y_trn.shape)"
      ],
      "metadata": {
        "colab": {
          "base_uri": "https://localhost:8080/"
        },
        "id": "Lj3FWEtp1VLx",
        "outputId": "f7caacac-9dcd-4d77-df6d-5bb020584ab8"
      },
      "execution_count": 8,
      "outputs": [
        {
          "output_type": "stream",
          "name": "stdout",
          "text": [
            "torch.Size([50, 2])\n",
            "torch.Size([50, 1])\n"
          ]
        }
      ]
    },
    {
      "cell_type": "markdown",
      "source": [
        "## Datos"
      ],
      "metadata": {
        "id": "4Zydn2IBwLCE"
      }
    },
    {
      "cell_type": "markdown",
      "source": [
        "Conjunto de datos.\n",
        "\n",
        "Para hacer lotes podemos user la clase TensorDataset."
      ],
      "metadata": {
        "id": "jDr4M_e-vk9M"
      }
    },
    {
      "cell_type": "code",
      "source": [
        "ds = TensorDataset(x_trn, y_trn)\n",
        "ds[0]"
      ],
      "metadata": {
        "colab": {
          "base_uri": "https://localhost:8080/"
        },
        "id": "oVlhxL8lvmZB",
        "outputId": "dbb4a4e9-36a9-433f-c001-7cdf59e17660"
      },
      "execution_count": 9,
      "outputs": [
        {
          "output_type": "execute_result",
          "data": {
            "text/plain": [
              "(tensor([5.6000, 8.2000]), tensor([5.1000]))"
            ]
          },
          "metadata": {},
          "execution_count": 9
        }
      ]
    },
    {
      "cell_type": "markdown",
      "source": [
        "Cargador de datos\n",
        "\n",
        "Para ver el funcionamiento de la tubería de datos imprimimos la forma de cada lote y su primer elemento."
      ],
      "metadata": {
        "id": "rWvNf2S2wQdF"
      }
    },
    {
      "cell_type": "code",
      "source": [
        "def build_dl(batch_size=16, shuffle=True):\n",
        "    return DataLoader(ds, batch_size=batch_size, shuffle=True)\n",
        "\n",
        "# creamos un DataLoader\n",
        "dl = build_dl()\n",
        "\n",
        "x, y = next(iter(dl))\n",
        "print(f'x shape={x.shape} dtype={x.dtype}')\n",
        "print(f'y shape={y.shape} dtype={y.dtype}')"
      ],
      "metadata": {
        "colab": {
          "base_uri": "https://localhost:8080/"
        },
        "id": "wlNxAdE4wTdt",
        "outputId": "7066c10e-b62f-48e0-dd09-f358de4d2909"
      },
      "execution_count": 10,
      "outputs": [
        {
          "output_type": "stream",
          "name": "stdout",
          "text": [
            "x shape=torch.Size([16, 2]) dtype=torch.float32\n",
            "y shape=torch.Size([16, 1]) dtype=torch.float32\n"
          ]
        }
      ]
    },
    {
      "cell_type": "markdown",
      "source": [
        "## Ciclo de entrenamiento"
      ],
      "metadata": {
        "id": "A2oI6JKew-LS"
      }
    },
    {
      "cell_type": "code",
      "source": [
        "# optimizador\n",
        "def train(model, dl, epochs=5):\n",
        "\n",
        "    opt = optim.SGD(model.parameters(), lr=1e-3)\n",
        "\n",
        "    # historial de pérdida\n",
        "    loss_hist = []\n",
        "\n",
        "    # ciclo de entrenamiento\n",
        "    for epoch in range(epochs):\n",
        "\n",
        "        # historial\n",
        "        loss_hist = []\n",
        "        \n",
        "        # entrenamiento de una época\n",
        "        for x, y_true in dl:\n",
        "            # hacemos inferencia para obtener los logits\n",
        "            y_lgts = model(x)\n",
        "            # calculamos de pérdida\n",
        "            loss = F.mse_loss(y_lgts, y_true)\n",
        "            # vaciamos los gradientes\n",
        "            opt.zero_grad()\n",
        "            # retropropagamos\n",
        "            loss.backward()\n",
        "            # actulizamos parámetros\n",
        "            opt.step()\n",
        "\n",
        "            # guardamos historial de pérdida\n",
        "            loss_hist.append(loss.item() * 100)\n",
        "            \n",
        "        # imprimimos la pérdida de la época\n",
        "        loss = np.mean(loss_hist)\n",
        "        print(f'E{epoch:02} loss=[{loss:6.2f}]')"
      ],
      "metadata": {
        "id": "qBd58CqXxAxV"
      },
      "execution_count": 11,
      "outputs": []
    },
    {
      "cell_type": "markdown",
      "source": [
        "## Realiza la definición de la arquitectura usando tanto la interfaz de alto como la de medio nivel."
      ],
      "metadata": {
        "id": "CTEXtt-ju3AR"
      }
    },
    {
      "cell_type": "markdown",
      "source": [
        "Para la definición de la arquitectura se utiliza la clase nn.Sequential en la que se definen las capar y colocamos el Sequential dentro del inicializador.\n",
        "Posteriormente se implementa la inferencia en el método forward.\n",
        "De esta manera se aplican ambas APIs tanto de medio como de alto nivel."
      ],
      "metadata": {
        "id": "SgqRmFyHBAuu"
      }
    },
    {
      "cell_type": "code",
      "source": [
        "#se define la clase RegLin que hereda de torch.nn.Module\n",
        "class LinRegAltMed(nn.Module):\n",
        "\n",
        "    #se define el inicializador\n",
        "    def __init__(self):\n",
        "        # se llama al inicializador de la clase padre\n",
        "        super().__init__()\n",
        "        # definicion de capas        \n",
        "        self.cls = nn.Sequential(\n",
        "        nn.Linear(2, 2),\n",
        "        nn.ReLU(),\n",
        "        nn.Linear(2, 1),\n",
        "      )\n",
        "    \n",
        "    # método para inferencia\n",
        "    def forward(self, x):\n",
        "        x = self.cls(x)\n",
        "        return x\n",
        "\n",
        "def build_almed():\n",
        "    return LinRegAltMed()\n",
        "\n",
        "build_almed()    "
      ],
      "metadata": {
        "colab": {
          "base_uri": "https://localhost:8080/"
        },
        "id": "h5meftR-BH5U",
        "outputId": "47bc7b34-b188-4b69-ba9d-3142d82ff5ba"
      },
      "execution_count": 102,
      "outputs": [
        {
          "output_type": "execute_result",
          "data": {
            "text/plain": [
              "LinRegAltMed(\n",
              "  (cls): Sequential(\n",
              "    (0): Linear(in_features=2, out_features=2, bias=True)\n",
              "    (1): ReLU()\n",
              "    (2): Linear(in_features=2, out_features=1, bias=True)\n",
              "  )\n",
              ")"
            ]
          },
          "metadata": {},
          "execution_count": 102
        }
      ]
    },
    {
      "cell_type": "markdown",
      "source": [
        "## Entrenamiento del modelo"
      ],
      "metadata": {
        "id": "DiGFZupEEUY0"
      }
    },
    {
      "cell_type": "code",
      "source": [
        "set_seed()\n",
        "dl = build_dl()\n",
        "model = build_almed()\n",
        "train(model, dl, 10)"
      ],
      "metadata": {
        "colab": {
          "base_uri": "https://localhost:8080/"
        },
        "id": "xU1WRYY_EaQH",
        "outputId": "651139da-7d89-4546-f174-b4727cb05c1b"
      },
      "execution_count": 104,
      "outputs": [
        {
          "output_type": "stream",
          "name": "stdout",
          "text": [
            "E00 loss=[5240.13]\n",
            "E01 loss=[2730.91]\n",
            "E02 loss=[622.67]\n",
            "E03 loss=[ 47.03]\n",
            "E04 loss=[ 16.73]\n",
            "E05 loss=[ 16.66]\n",
            "E06 loss=[ 15.56]\n",
            "E07 loss=[ 21.74]\n",
            "E08 loss=[ 16.46]\n",
            "E09 loss=[ 15.69]\n"
          ]
        }
      ]
    },
    {
      "cell_type": "markdown",
      "source": [
        "## Obteniendo parámetros"
      ],
      "metadata": {
        "id": "qPhzvqtkkD3e"
      }
    },
    {
      "cell_type": "code",
      "source": [
        "list(model.parameters())"
      ],
      "metadata": {
        "colab": {
          "base_uri": "https://localhost:8080/"
        },
        "id": "GSjqjr2ZkQw2",
        "outputId": "55318475-7f0b-457c-f52a-f9ce459600f0"
      },
      "execution_count": 22,
      "outputs": [
        {
          "output_type": "execute_result",
          "data": {
            "text/plain": [
              "[Parameter containing:\n",
              " tensor([[ 0.2136,  0.7574],\n",
              "         [-0.5820, -0.5204]], requires_grad=True), Parameter containing:\n",
              " tensor([-0.2413,  0.1896], requires_grad=True), Parameter containing:\n",
              " tensor([[0.6947, 0.5607]], requires_grad=True), Parameter containing:\n",
              " tensor([0.0584], requires_grad=True)]"
            ]
          },
          "metadata": {},
          "execution_count": 22
        }
      ]
    },
    {
      "cell_type": "markdown",
      "source": [
        "## Prueba distintos valores para los hiperparámetros."
      ],
      "metadata": {
        "id": "e8G-QZBcBijq"
      }
    },
    {
      "cell_type": "code",
      "source": [],
      "metadata": {
        "id": "-tWeu1a4Bj96"
      },
      "execution_count": null,
      "outputs": []
    },
    {
      "cell_type": "markdown",
      "source": [
        "## Predicción de un alumno que estudió durante 12 horas para el examen y en un examen previo obtuvo 3 de calificación."
      ],
      "metadata": {
        "id": "0fmLXCOyAc8p"
      }
    },
    {
      "cell_type": "code",
      "source": [
        "x = torch.tensor([3.0,12.0])\n",
        "y_pred = model(x)\n",
        "print(y_pred)"
      ],
      "metadata": {
        "colab": {
          "base_uri": "https://localhost:8080/"
        },
        "id": "hqbqiHAzrqx4",
        "outputId": "cb999d34-5663-40a1-a8cb-9e5c23bc92ab"
      },
      "execution_count": 34,
      "outputs": [
        {
          "output_type": "stream",
          "name": "stdout",
          "text": [
            "tensor([6.6500], grad_fn=<AddBackward0>)\n"
          ]
        }
      ]
    },
    {
      "cell_type": "markdown",
      "source": [
        "## Discute las modificaciones que realizaste y las distintas configuraciones para los hiperparámetros que probaste."
      ],
      "metadata": {
        "id": "_NA_FZl0CWLk"
      }
    },
    {
      "cell_type": "markdown",
      "source": [],
      "metadata": {
        "id": "bgmp6QPTCXuE"
      }
    }
  ]
}